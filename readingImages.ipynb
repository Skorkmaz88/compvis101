{
 "cells": [
  {
   "cell_type": "markdown",
   "metadata": {
    "nbpresent": {
     "id": "0ed64380-fd86-4d60-b062-754d9225a4b9"
    }
   },
   "source": [
    "## Understanding the Digital Images"
   ]
  },
  {
   "cell_type": "markdown",
   "metadata": {
    "nbpresent": {
     "id": "fad3badb-c95f-4500-a715-26b0cc8b718c"
    }
   },
   "source": [
    "                                                   Prologue \n",
    "   \n",
    " This is a very simple image processing and computer vision Python library, designed to introduce these topics with little practicals. I am sorry in advance for any rookie mistakes, it is still under development. \n",
    " \n",
    "In this series, I will be limiting digital images we can use to PNG files for the sake of simplicity, which I will also discuss in topic of image compression. \n",
    "\n",
    " WARNING: There will be very little formal explanations, but you will be fine without understanding them.\n"
   ]
  },
  {
   "cell_type": "markdown",
   "metadata": {
    "nbpresent": {
     "id": "4652680d-9ce7-43db-9484-7f631f3212c1"
    }
   },
   "source": [
    "                                           What Are Digital Images\n",
    "    \n",
    "  Digital images are discretization of 2 or 3 dimensional signals. In other words, digital images are sampled  sets of pixels or voxels of continuous domains. \n",
    "  \n",
    "  Practically speaking, \n",
    "  \n",
    "  \n",
    "  FORMALITY BEGINS\n",
    "  \n",
    "                                            f : R² ⊃ Ω → R\n",
    "   \n",
    "   \n",
    "   Where the f is digital image over \n",
    "   Ω : Rectangular image domain\n",
    "  FORMALITY ENDS\n",
    "  "
   ]
  },
  {
   "cell_type": "code",
   "execution_count": null,
   "metadata": {
    "collapsed": true
   },
   "outputs": [],
   "source": [
    "# Create an image to better understand pixel values and digital image structure and transform another one\n",
    "# @author: skorkmaz\n"
   ]
  },
  {
   "cell_type": "code",
   "execution_count": 31,
   "metadata": {
    "collapsed": false
   },
   "outputs": [],
   "source": [
    "# libs\n",
    "import png\n",
    "\n",
    "# We create a greyscale image as described in our text.\n",
    "# To do that simply, we create a 2D array in python. \n",
    "# x and y, x being horizontal and y being vertical directions.\n",
    "\n",
    "x  = []\n",
    "y = []\n",
    "# Play around with these pixels values to get different grayscale images, they shoud be \n",
    "# in range of 0 - 255. \n",
    "white = 255\n",
    "gray = 128\n",
    "black = 0\n",
    "width  = 100\n",
    "height = 300\n",
    "\n",
    "# Add 100 x 100 rectangle as just white(255) valued pixels\n",
    "for i in range(0, 100):\n",
    "    for j in range(0,100):\n",
    "        y.append(white); # Pixel (i,j) is being set to a value, rest is coding trick to nest two lists \n",
    "    x.append(y)\n",
    "    y = []\n",
    "    \n",
    "# Add 100 x 100 rectangle as just mid-gray(128) valued pixels\n",
    "for i in range(0, 100):\n",
    "    for j in range(0,100):\n",
    "        y.append(gray);\n",
    "    x.append(y)\n",
    "    y = []\n",
    "\n",
    "# Add 100 x 100 rectangle as just black(0) valued pixels\n",
    "for i in range(0, 100):\n",
    "    for j in range(0,100):\n",
    "        y.append(black);\n",
    "    x.append(y)\n",
    "    y = []\n",
    "\n",
    "# output image file \n",
    "f = open('out.png', 'wb')\n",
    "w = png.Writer(width, height , greyscale=True, bitdepth=8)\n",
    "w.write(f, x)\n",
    "f.close()\n",
    "# If everything went well, you should have 3 vertically aligned rectangles white, gray and black \n",
    "# Check your working folder\n",
    "\n",
    "# PART 2\n",
    "# Read a grayscale image and convert it to binary\n",
    "\n",
    "# This time we will binarize a grayscale image, to do that we will read pixels and according to threshold we set\n",
    "# we will decide if that pixel should be white or black \n",
    "\n",
    "# This file is originally 8 bit png image, can be found in github repository, you should use only this type of\n"
   ]
  },
  {
   "cell_type": "code",
   "execution_count": 32,
   "metadata": {
    "collapsed": false
   },
   "outputs": [
    {
     "name": "stdout",
     "output_type": "stream",
     "text": [
      "Input image size is: 512 pixels as  width, 512 pixels as height\n",
      "<itertools.imap object at 0x7f4e2cb58890>\n"
     ]
    }
   ],
   "source": [
    "# images if you want to change the image.\n",
    "f = open('./img/lenaG.png', 'r')\n",
    "\n",
    "r=png.Reader(file=f)\n",
    "# You will the details about the image, for now pay attention to size and bitdepth only.\n",
    "img = r.read()\n",
    "\n",
    "width = img[0]\n",
    "height = img[1]\n",
    "# Threshold value for binarizing images, \n",
    "threshold = 128\n",
    "print \"Input image size is: \"+ str(width)+ \" pixels as  width, \" + str(height) + \" pixels as height\"\n",
    "\n",
    "f_out = open('lenaBinary.png', 'wb')\n",
    "w = png.Writer(width, height , greyscale=True, bitdepth=1)\n",
    "\n",
    "pixels = img[2]\n",
    " \n",
    "print pixels\n",
    "x = []\n",
    "y = []\n",
    "\n",
    "# Let's traverse the Lena image \n",
    "for row in pixels:\n",
    "    for pixel in row:\n",
    "        p_value =  pixel\n",
    "        # Now here we binarize image in pixel level\n",
    "        if p_value > threshold:\n",
    "            p_value = 1\n",
    "        else:\n",
    "            p_value = 0\n",
    "            \n",
    "        y.append(p_value);\n",
    "    x.append(y)\n",
    "    y = []\n",
    "    "
   ]
  }
 ],
 "metadata": {
  "anaconda-cloud": {},
  "kernelspec": {
   "display_name": "Python [conda root]",
   "language": "python",
   "name": "conda-root-py"
  },
  "language_info": {
   "codemirror_mode": {
    "name": "ipython",
    "version": 2
   },
   "file_extension": ".py",
   "mimetype": "text/x-python",
   "name": "python",
   "nbconvert_exporter": "python",
   "pygments_lexer": "ipython2",
   "version": "2.7.12"
  },
  "nbpresent": {
   "slides": {},
   "themes": {
    "default": "490abc82-3c78-4e24-a148-e6b92e1ada8e",
    "theme": {
     "158154ae-1eed-4e8a-b95d-893745d50da0": {
      "id": "158154ae-1eed-4e8a-b95d-893745d50da0",
      "palette": {
       "19cc588f-0593-49c9-9f4b-e4d7cc113b1c": {
        "id": "19cc588f-0593-49c9-9f4b-e4d7cc113b1c",
        "rgb": [
         252,
         252,
         252
        ]
       },
       "31af15d2-7e15-44c5-ab5e-e04b16a89eff": {
        "id": "31af15d2-7e15-44c5-ab5e-e04b16a89eff",
        "rgb": [
         68,
         68,
         68
        ]
       },
       "50f92c45-a630-455b-aec3-788680ec7410": {
        "id": "50f92c45-a630-455b-aec3-788680ec7410",
        "rgb": [
         155,
         177,
         192
        ]
       },
       "c5cc3653-2ee1-402a-aba2-7caae1da4f6c": {
        "id": "c5cc3653-2ee1-402a-aba2-7caae1da4f6c",
        "rgb": [
         43,
         126,
         184
        ]
       },
       "efa7f048-9acb-414c-8b04-a26811511a21": {
        "id": "efa7f048-9acb-414c-8b04-a26811511a21",
        "rgb": [
         25.118061674008803,
         73.60176211453744,
         107.4819383259912
        ]
       }
      },
      "rules": {
       "blockquote": {
        "color": "50f92c45-a630-455b-aec3-788680ec7410"
       },
       "code": {
        "font-family": "Anonymous Pro"
       },
       "h1": {
        "color": "c5cc3653-2ee1-402a-aba2-7caae1da4f6c",
        "font-family": "Lato",
        "font-size": 8
       },
       "h2": {
        "color": "c5cc3653-2ee1-402a-aba2-7caae1da4f6c",
        "font-family": "Lato",
        "font-size": 6
       },
       "h3": {
        "color": "50f92c45-a630-455b-aec3-788680ec7410",
        "font-family": "Lato",
        "font-size": 5.5
       },
       "h4": {
        "color": "c5cc3653-2ee1-402a-aba2-7caae1da4f6c",
        "font-family": "Lato",
        "font-size": 5
       },
       "h5": {
        "font-family": "Lato"
       },
       "h6": {
        "font-family": "Lato"
       },
       "h7": {
        "font-family": "Lato"
       },
       "pre": {
        "font-family": "Anonymous Pro",
        "font-size": 4
       }
      },
      "text-base": {
       "font-family": "Merriweather",
       "font-size": 4
      }
     },
     "490abc82-3c78-4e24-a148-e6b92e1ada8e": {
      "backgrounds": {
       "dc7afa04-bf90-40b1-82a5-726e3cff5267": {
        "background-color": "31af15d2-7e15-44c5-ab5e-e04b16a89eff",
        "id": "dc7afa04-bf90-40b1-82a5-726e3cff5267"
       }
      },
      "id": "490abc82-3c78-4e24-a148-e6b92e1ada8e",
      "palette": {
       "19cc588f-0593-49c9-9f4b-e4d7cc113b1c": {
        "id": "19cc588f-0593-49c9-9f4b-e4d7cc113b1c",
        "rgb": [
         252,
         252,
         252
        ]
       },
       "31af15d2-7e15-44c5-ab5e-e04b16a89eff": {
        "id": "31af15d2-7e15-44c5-ab5e-e04b16a89eff",
        "rgb": [
         68,
         68,
         68
        ]
       },
       "50f92c45-a630-455b-aec3-788680ec7410": {
        "id": "50f92c45-a630-455b-aec3-788680ec7410",
        "rgb": [
         197,
         226,
         245
        ]
       },
       "c5cc3653-2ee1-402a-aba2-7caae1da4f6c": {
        "id": "c5cc3653-2ee1-402a-aba2-7caae1da4f6c",
        "rgb": [
         43,
         126,
         184
        ]
       },
       "efa7f048-9acb-414c-8b04-a26811511a21": {
        "id": "efa7f048-9acb-414c-8b04-a26811511a21",
        "rgb": [
         25.118061674008803,
         73.60176211453744,
         107.4819383259912
        ]
       }
      },
      "rules": {
       "a": {
        "color": "19cc588f-0593-49c9-9f4b-e4d7cc113b1c"
       },
       "blockquote": {
        "color": "50f92c45-a630-455b-aec3-788680ec7410",
        "font-size": 3
       },
       "code": {
        "font-family": "Anonymous Pro"
       },
       "h1": {
        "color": "19cc588f-0593-49c9-9f4b-e4d7cc113b1c",
        "font-family": "Merriweather",
        "font-size": 8
       },
       "h2": {
        "color": "19cc588f-0593-49c9-9f4b-e4d7cc113b1c",
        "font-family": "Merriweather",
        "font-size": 6
       },
       "h3": {
        "color": "50f92c45-a630-455b-aec3-788680ec7410",
        "font-family": "Lato",
        "font-size": 5.5
       },
       "h4": {
        "color": "c5cc3653-2ee1-402a-aba2-7caae1da4f6c",
        "font-family": "Lato",
        "font-size": 5
       },
       "h5": {
        "font-family": "Lato"
       },
       "h6": {
        "font-family": "Lato"
       },
       "h7": {
        "font-family": "Lato"
       },
       "li": {
        "color": "50f92c45-a630-455b-aec3-788680ec7410",
        "font-size": 3.25
       },
       "pre": {
        "font-family": "Anonymous Pro",
        "font-size": 4
       }
      },
      "text-base": {
       "color": "19cc588f-0593-49c9-9f4b-e4d7cc113b1c",
       "font-family": "Lato",
       "font-size": 4
      }
     }
    }
   }
  }
 },
 "nbformat": 4,
 "nbformat_minor": 1
}
